{
 "cells": [
  {
   "cell_type": "code",
   "execution_count": 3,
   "metadata": {
    "collapsed": true
   },
   "outputs": [],
   "source": [
    "import numpy as np\n",
    "import pandas as pd"
   ]
  },
  {
   "cell_type": "code",
   "execution_count": 4,
   "metadata": {
    "collapsed": true
   },
   "outputs": [],
   "source": [
    "def entropy(data):\n",
    "    unique, counts = np.unique(data, return_counts=True)\n",
    "    probability = counts/counts.sum()\n",
    "    return abs(np.sum(np.log2(probability) * probability))\n",
    "\n",
    "def select_feature(features, target, data):\n",
    "    \"\"\" information gain selection\n",
    "    \"\"\"\n",
    "    observation_number = data.shape[0]\n",
    "    target_entropy = entropy(target)\n",
    "    max_gain = -np.inf\n",
    "    selected_feature = None\n",
    "    for feature in features:\n",
    "        \n",
    "        unique_classes, class_count = np.unique(data[feature], return_counts=True)\n",
    "        feature_entropy = 0\n",
    "        \n",
    "        for cl, cl_count in zip(unique_classes, class_count):\n",
    "            target_subset = target[data[feature] == cl]\n",
    "            feature_entropy += cl_count / observation_number * entropy(target_subset)\n",
    "        information_gain = target_entropy - feature_entropy\n",
    "\n",
    "        if information_gain >= max_gain:\n",
    "            max_gain = information_gain\n",
    "            selected_feature = feature\n",
    "        \n",
    "    return selected_feature"
   ]
  },
  {
   "cell_type": "code",
   "execution_count": 5,
   "metadata": {
    "collapsed": true
   },
   "outputs": [],
   "source": [
    "def ID3(features, target, data):\n",
    "    feature = select_feature(features, target, data)\n",
    "    node = dict()\n",
    "    feature_order = [feature]\n",
    "    unique_classes = np.unique(data[feature])\n",
    "    \n",
    "    for cl in unique_classes:\n",
    "        target_subset = target[data[feature] == cl]\n",
    "        data_subset = data[data[feature] == cl]\n",
    "        cl_entropy = entropy(target_subset)\n",
    "        if cl_entropy == 0:\n",
    "            node[cl] = target.iloc[0]\n",
    "        else:\n",
    "            node[cl], f = ID3(features.drop(feature), target_subset, data_subset)\n",
    "            if f[0] not in feature_order:\n",
    "                feature_order += f\n",
    "                \n",
    "    return node, feature_order"
   ]
  },
  {
   "cell_type": "markdown",
   "metadata": {},
   "source": [
    "## Data preparation"
   ]
  },
  {
   "cell_type": "code",
   "execution_count": 6,
   "metadata": {
    "collapsed": true
   },
   "outputs": [],
   "source": [
    "data = pd.read_csv(r\"..\data\decision tree dataset.txt\", index_col=\"Day\")\n",
    "\n",
    "target = data[\"Play\"]\n",
    "data = data.drop(\"Play\", axis=1)\n",
    "features = data.keys()"
   ]
  },
  {
   "cell_type": "markdown",
   "metadata": {},
   "source": [
    "## Example of using my ID3 algorithm"
   ]
  },
  {
   "cell_type": "code",
   "execution_count": 7,
   "metadata": {},
   "outputs": [
    {
     "data": {
      "text/plain": [
       "({'Overcast': 'No',\n",
       "  'Rain': {'Strong': 'Yes', 'Weak': 'Yes'},\n",
       "  'Sunny': {'High': 'No', 'Normal': 'No'}},\n",
       " ['Outlook', 'Wind', 'Humidity'])"
      ]
     },
     "execution_count": 7,
     "metadata": {},
     "output_type": "execute_result"
    }
   ],
   "source": [
    "ID3(features, target, data)"
   ]
  },
  {
   "cell_type": "markdown",
   "metadata": {},
   "source": [
    "## Comparing with sklearn"
   ]
  },
  {
   "cell_type": "code",
   "execution_count": 16,
   "metadata": {
    "collapsed": true
   },
   "outputs": [],
   "source": [
    "from sklearn.tree import DecisionTreeClassifier\n",
    "clf = DecisionTreeClassifier(criterion=\"entropy\")\n",
    "\n",
    "## This doesn't work because sklearn realization operating only with numerical data, \n",
    "## but original ID3 Classifier also can work with categorical data.\n",
    "## https://datascience.stackexchange.com/a/8458\n",
    "\n",
    "clf.fit(data, target)"
   ]
  }
 ],
 "metadata": {
  "kernelspec": {
   "display_name": "Python 3",
   "language": "python",
   "name": "python3"
  },
  "language_info": {
   "codemirror_mode": {
    "name": "ipython",
    "version": 3
   },
   "file_extension": ".py",
   "mimetype": "text/x-python",
   "name": "python",
   "nbconvert_exporter": "python",
   "pygments_lexer": "ipython3",
   "version": "3.6.0"
  }
 },
 "nbformat": 4,
 "nbformat_minor": 2
}
