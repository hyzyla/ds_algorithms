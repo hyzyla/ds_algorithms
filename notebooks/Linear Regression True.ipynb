{
 "cells": [
  {
   "cell_type": "code",
   "execution_count": 1,
   "metadata": {
    "collapsed": true
   },
   "outputs": [],
   "source": [
    "%matplotlib inline\n",
    "import numpy as np\n",
    "import matplotlib.pyplot as plt\n",
    "import pandas as pd"
   ]
  },
  {
   "cell_type": "markdown",
   "metadata": {},
   "source": [
    "## My implementation of linear regression"
   ]
  },
  {
   "cell_type": "code",
   "execution_count": 32,
   "metadata": {
    "collapsed": true
   },
   "outputs": [],
   "source": [
    "class LinearRegression():\n",
    "    def __init__(self, visualization=False):\n",
    "        self.visualization = visualization\n",
    "        self.mean = None\n",
    "        self.std = None\n",
    "        \n",
    "        if visualization:\n",
    "            self.fig = plt.figure()\n",
    "            self.ax_cost = self.fig.add_subplot(1, 1, 1)\n",
    "    \n",
    "    def plot_cost(self):\n",
    "        self.ax_cost.set_title(\"Cost\")\n",
    "        self.ax_cost.plot(self.cost_history_[:, np.newaxis])\n",
    "    \n",
    "    def hypothesis(self, X, theta):\n",
    "        return X @ theta\n",
    "\n",
    "    def cost_function(self, X, y, theta, l=0):\n",
    "        m = y.size\n",
    "        error = self.hypothesis(X, theta) - y\n",
    "        theta_copy = theta.copy()\n",
    "        regularization = l * theta_copy.T @ theta_copy\n",
    "        return np.sum(np.power(error, 2) + regularization) / (2 * m) \n",
    "\n",
    "    def fit(self, X, y, alpha=0.1, lambda_parametr=0, num_steps=1500):\n",
    "        num_examples = y.size\n",
    "        \n",
    "        #todo: rewrite this\n",
    "        coef = np.random.rand(X.shape[1])[:, np.newaxis] * 20 - 10\n",
    "        \n",
    "        cost_history = [self.cost_function(X, y, coef, lambda_parametr)]\n",
    "        \n",
    "        for i in range(num_steps):\n",
    "            prediction = self.hypothesis(X, coef)\n",
    "            error = prediction - y\n",
    "            coef_copy = coef.copy()\n",
    "            coef_copy[1, :] = 0\n",
    "            coef = coef * (1 - alpha * lambda_parametr / num_examples) - alpha * (X.T @ error) /  num_examples \n",
    "            \n",
    "            cost_history.append(self.cost_function(X, y, coef, lambda_parametr))\n",
    "            if cost_history[-1] > cost_history[-2]:\n",
    "                alpha *= 0.1\n",
    "        \n",
    "        self.cost_history_ = np.array(cost_history)\n",
    "        self.coef_ = coef\n",
    "        if self.visualization:\n",
    "            self.plot_cost()\n",
    "            \n",
    "    def predict(self, X):\n",
    "        return self.hypothesis(X, self.coef_)"
   ]
  },
  {
   "cell_type": "markdown",
   "metadata": {},
   "source": [
    "## Additional pre-processing"
   ]
  },
  {
   "cell_type": "code",
   "execution_count": 33,
   "metadata": {
    "collapsed": true
   },
   "outputs": [],
   "source": [
    "def normalize(X):\n",
    "    X_norm = X.copy()\n",
    "    X_norm /= X.max(axis=0)\n",
    "    return X_norm\n",
    "\n",
    "def polinomial_features(X, p=1):\n",
    "    return np.power(X, np.arange(p+1))"
   ]
  },
  {
   "cell_type": "markdown",
   "metadata": {
    "collapsed": true
   },
   "source": [
    "## Example of using"
   ]
  },
  {
   "cell_type": "code",
   "execution_count": 19,
   "metadata": {},
   "outputs": [
    {
     "data": {
      "image/png": "[encoded data removed]",
      "text/plain": [
       "<matplotlib.figure.Figure at 0x20f3b481358>"
      ]
     },
     "metadata": {},
     "output_type": "display_data"
    }
   ],
   "source": [
    "n_examples = 50\n",
    "degree = 1\n",
    "X = np.linspace(0, 20, n_examples)[:, np.newaxis]\n",
    "y = np.sin(X) - X/2 + np.random.rand(n_examples, 1)*5\n",
    "X = polinomial_features(X, degree)\n",
    "X = normalize(X)\n",
    "y = normalize(y)\n",
    "reg = LinearRegression(visualization=True)\n",
    "reg.fit(X, y, alpha=1e-2, num_steps=5000)"
   ]
  },
  {
   "cell_type": "code",
   "execution_count": 20,
   "metadata": {},
   "outputs": [
    {
     "data": {
      "text/plain": [
       "[<matplotlib.lines.Line2D at 0x20f3b4a2e48>]"
      ]
     },
     "execution_count": 20,
     "metadata": {},
     "output_type": "execute_result"
    },
    {
     "data": {
      "image/png": "[encoded data removed]",
      "text/plain": [
       "<matplotlib.figure.Figure at 0x20f3b46b358>"
      ]
     },
     "metadata": {},
     "output_type": "display_data"
    }
   ],
   "source": [
    "plt.scatter(X[:, 1], y, s=4)\n",
    "plt.plot(X[:, 1], reg.predict(X))"
   ]
  },
  {
   "cell_type": "code",
   "execution_count": null,
   "metadata": {
    "collapsed": true
   },
   "outputs": [],
   "source": []
  },
  {
   "cell_type": "markdown",
   "metadata": {
    "collapsed": true
   },
   "source": [
    "# Робота алгортиму на реальних даних"
   ]
  },
  {
   "cell_type": "code",
   "execution_count": 21,
   "metadata": {
    "scrolled": true
   },
   "outputs": [
    {
     "data": {
      "text/html": [
       "<div>\n",
       "<table border=\"1\" class=\"dataframe\">\n",
       "  <thead>\n",
       "    <tr style=\"text-align: right;\">\n",
       "      <th></th>\n",
       "      <th>Platform</th>\n",
       "      <th>Year</th>\n",
       "      <th>Genre</th>\n",
       "      <th>Publisher</th>\n",
       "      <th>Global_Sales</th>\n",
       "    </tr>\n",
       "  </thead>\n",
       "  <tbody>\n",
       "    <tr>\n",
       "      <th>0</th>\n",
       "      <td>Wii</td>\n",
       "      <td>2006.0</td>\n",
       "      <td>Sports</td>\n",
       "      <td>Nintendo</td>\n",
       "      <td>82.74</td>\n",
       "    </tr>\n",
       "    <tr>\n",
       "      <th>1</th>\n",
       "      <td>NES</td>\n",
       "      <td>1985.0</td>\n",
       "      <td>Platform</td>\n",
       "      <td>Nintendo</td>\n",
       "      <td>40.24</td>\n",
       "    </tr>\n",
       "    <tr>\n",
       "      <th>2</th>\n",
       "      <td>Wii</td>\n",
       "      <td>2008.0</td>\n",
       "      <td>Racing</td>\n",
       "      <td>Nintendo</td>\n",
       "      <td>35.82</td>\n",
       "    </tr>\n",
       "    <tr>\n",
       "      <th>3</th>\n",
       "      <td>Wii</td>\n",
       "      <td>2009.0</td>\n",
       "      <td>Sports</td>\n",
       "      <td>Nintendo</td>\n",
       "      <td>33.00</td>\n",
       "    </tr>\n",
       "    <tr>\n",
       "      <th>4</th>\n",
       "      <td>GB</td>\n",
       "      <td>1996.0</td>\n",
       "      <td>Role-Playing</td>\n",
       "      <td>Nintendo</td>\n",
       "      <td>31.37</td>\n",
       "    </tr>\n",
       "  </tbody>\n",
       "</table>\n",
       "</div>"
      ],
      "text/plain": [
       "  Platform    Year         Genre Publisher  Global_Sales\n",
       "0      Wii  2006.0        Sports  Nintendo         82.74\n",
       "1      NES  1985.0      Platform  Nintendo         40.24\n",
       "2      Wii  2008.0        Racing  Nintendo         35.82\n",
       "3      Wii  2009.0        Sports  Nintendo         33.00\n",
       "4       GB  1996.0  Role-Playing  Nintendo         31.37"
      ]
     },
     "execution_count": 21,
     "metadata": {},
     "output_type": "execute_result"
    }
   ],
   "source": [
    "# import from csv\n",
    "df = pd.read_csv(r\"..\\data\\vgsales.csv\")\n",
    "\n",
    "# droping unuseless features\n",
    "df = df.drop(\"Rank\", axis=1)\n",
    "df = df.drop(\"NA_Sales\", axis=1)\n",
    "df = df.drop(\"EU_Sales\", axis=1)\n",
    "df = df.drop(\"JP_Sales\", axis=1)\n",
    "df = df.drop(\"Other_Sales\", axis=1)\n",
    "df = df.drop(\"Name\", axis=1)\n",
    "df.head()"
   ]
  },
  {
   "cell_type": "code",
   "execution_count": 22,
   "metadata": {},
   "outputs": [
    {
     "data": {
      "text/html": [
       "<div>\n",
       "<table border=\"1\" class=\"dataframe\">\n",
       "  <thead>\n",
       "    <tr style=\"text-align: right;\">\n",
       "      <th></th>\n",
       "      <th>Year</th>\n",
       "      <th>Global_Sales</th>\n",
       "      <th>Platform_2600</th>\n",
       "      <th>Platform_3DO</th>\n",
       "      <th>Platform_3DS</th>\n",
       "      <th>Platform_DC</th>\n",
       "      <th>Platform_DS</th>\n",
       "      <th>Platform_GB</th>\n",
       "      <th>Platform_GBA</th>\n",
       "      <th>Platform_GC</th>\n",
       "      <th>...</th>\n",
       "      <th>Publisher_Zushi Games</th>\n",
       "      <th>Publisher_bitComposer Games</th>\n",
       "      <th>Publisher_dramatic create</th>\n",
       "      <th>Publisher_fonfun</th>\n",
       "      <th>Publisher_iWin</th>\n",
       "      <th>Publisher_id Software</th>\n",
       "      <th>Publisher_imageepoch Inc.</th>\n",
       "      <th>Publisher_inXile Entertainment</th>\n",
       "      <th>Publisher_mixi, Inc</th>\n",
       "      <th>Publisher_responDESIGN</th>\n",
       "    </tr>\n",
       "  </thead>\n",
       "  <tbody>\n",
       "    <tr>\n",
       "      <th>0</th>\n",
       "      <td>2006.0</td>\n",
       "      <td>0.12</td>\n",
       "      <td>0</td>\n",
       "      <td>0</td>\n",
       "      <td>0</td>\n",
       "      <td>0</td>\n",
       "      <td>0</td>\n",
       "      <td>0</td>\n",
       "      <td>0</td>\n",
       "      <td>0</td>\n",
       "      <td>...</td>\n",
       "      <td>0</td>\n",
       "      <td>0</td>\n",
       "      <td>0</td>\n",
       "      <td>0</td>\n",
       "      <td>0</td>\n",
       "      <td>0</td>\n",
       "      <td>0</td>\n",
       "      <td>0</td>\n",
       "      <td>0</td>\n",
       "      <td>0</td>\n",
       "    </tr>\n",
       "    <tr>\n",
       "      <th>1</th>\n",
       "      <td>1996.0</td>\n",
       "      <td>0.02</td>\n",
       "      <td>0</td>\n",
       "      <td>0</td>\n",
       "      <td>0</td>\n",
       "      <td>0</td>\n",
       "      <td>0</td>\n",
       "      <td>0</td>\n",
       "      <td>0</td>\n",
       "      <td>0</td>\n",
       "      <td>...</td>\n",
       "      <td>0</td>\n",
       "      <td>0</td>\n",
       "      <td>0</td>\n",
       "      <td>0</td>\n",
       "      <td>0</td>\n",
       "      <td>0</td>\n",
       "      <td>0</td>\n",
       "      <td>0</td>\n",
       "      <td>0</td>\n",
       "      <td>0</td>\n",
       "    </tr>\n",
       "    <tr>\n",
       "      <th>2</th>\n",
       "      <td>2008.0</td>\n",
       "      <td>0.05</td>\n",
       "      <td>0</td>\n",
       "      <td>0</td>\n",
       "      <td>0</td>\n",
       "      <td>0</td>\n",
       "      <td>0</td>\n",
       "      <td>0</td>\n",
       "      <td>0</td>\n",
       "      <td>0</td>\n",
       "      <td>...</td>\n",
       "      <td>0</td>\n",
       "      <td>0</td>\n",
       "      <td>0</td>\n",
       "      <td>0</td>\n",
       "      <td>0</td>\n",
       "      <td>0</td>\n",
       "      <td>0</td>\n",
       "      <td>0</td>\n",
       "      <td>0</td>\n",
       "      <td>0</td>\n",
       "    </tr>\n",
       "    <tr>\n",
       "      <th>3</th>\n",
       "      <td>2013.0</td>\n",
       "      <td>0.08</td>\n",
       "      <td>0</td>\n",
       "      <td>0</td>\n",
       "      <td>0</td>\n",
       "      <td>0</td>\n",
       "      <td>1</td>\n",
       "      <td>0</td>\n",
       "      <td>0</td>\n",
       "      <td>0</td>\n",
       "      <td>...</td>\n",
       "      <td>0</td>\n",
       "      <td>0</td>\n",
       "      <td>0</td>\n",
       "      <td>0</td>\n",
       "      <td>0</td>\n",
       "      <td>0</td>\n",
       "      <td>0</td>\n",
       "      <td>0</td>\n",
       "      <td>0</td>\n",
       "      <td>0</td>\n",
       "    </tr>\n",
       "    <tr>\n",
       "      <th>4</th>\n",
       "      <td>2009.0</td>\n",
       "      <td>0.31</td>\n",
       "      <td>0</td>\n",
       "      <td>0</td>\n",
       "      <td>0</td>\n",
       "      <td>0</td>\n",
       "      <td>1</td>\n",
       "      <td>0</td>\n",
       "      <td>0</td>\n",
       "      <td>0</td>\n",
       "      <td>...</td>\n",
       "      <td>0</td>\n",
       "      <td>0</td>\n",
       "      <td>0</td>\n",
       "      <td>0</td>\n",
       "      <td>0</td>\n",
       "      <td>0</td>\n",
       "      <td>0</td>\n",
       "      <td>0</td>\n",
       "      <td>0</td>\n",
       "      <td>0</td>\n",
       "    </tr>\n",
       "  </tbody>\n",
       "</table>\n",
       "<p>5 rows × 623 columns</p>\n",
       "</div>"
      ],
      "text/plain": [
       "     Year  Global_Sales  Platform_2600  Platform_3DO  Platform_3DS  \\\n",
       "0  2006.0          0.12              0             0             0   \n",
       "1  1996.0          0.02              0             0             0   \n",
       "2  2008.0          0.05              0             0             0   \n",
       "3  2013.0          0.08              0             0             0   \n",
       "4  2009.0          0.31              0             0             0   \n",
       "\n",
       "   Platform_DC  Platform_DS  Platform_GB  Platform_GBA  Platform_GC  \\\n",
       "0            0            0            0             0            0   \n",
       "1            0            0            0             0            0   \n",
       "2            0            0            0             0            0   \n",
       "3            0            1            0             0            0   \n",
       "4            0            1            0             0            0   \n",
       "\n",
       "            ...            Publisher_Zushi Games  Publisher_bitComposer Games  \\\n",
       "0           ...                                0                            0   \n",
       "1           ...                                0                            0   \n",
       "2           ...                                0                            0   \n",
       "3           ...                                0                            0   \n",
       "4           ...                                0                            0   \n",
       "\n",
       "   Publisher_dramatic create  Publisher_fonfun  Publisher_iWin  \\\n",
       "0                          0                 0               0   \n",
       "1                          0                 0               0   \n",
       "2                          0                 0               0   \n",
       "3                          0                 0               0   \n",
       "4                          0                 0               0   \n",
       "\n",
       "   Publisher_id Software  Publisher_imageepoch Inc.  \\\n",
       "0                      0                          0   \n",
       "1                      0                          0   \n",
       "2                      0                          0   \n",
       "3                      0                          0   \n",
       "4                      0                          0   \n",
       "\n",
       "   Publisher_inXile Entertainment  Publisher_mixi, Inc  Publisher_responDESIGN  \n",
       "0                               0                    0                       0  \n",
       "1                               0                    0                       0  \n",
       "2                               0                    0                       0  \n",
       "3                               0                    0                       0  \n",
       "4                               0                    0                       0  \n",
       "\n",
       "[5 rows x 623 columns]"
      ]
     },
     "execution_count": 22,
     "metadata": {},
     "output_type": "execute_result"
    }
   ],
   "source": [
    "# Converting categorial variable to numerical\n",
    "df = pd.get_dummies(df)\n",
    "df = df.sample(frac=1).reset_index(drop=True)\n",
    "df = df.dropna()\n",
    "df.head()"
   ]
  },
  {
   "cell_type": "code",
   "execution_count": 23,
   "metadata": {
    "collapsed": true
   },
   "outputs": [],
   "source": [
    "y = df[\"Global_Sales\"].values[:, np.newaxis]\n",
    "X = df.drop(\"Global_Sales\", axis=1).values"
   ]
  },
  {
   "cell_type": "code",
   "execution_count": 24,
   "metadata": {
    "collapsed": true
   },
   "outputs": [],
   "source": [
    "d = np.max(X, axis=0)\n",
    "d[d == 0] = 1\n",
    "X /= d\n",
    "X = np.append(np.ones([X.shape[0], 1]), X, axis=1)\n",
    "X_train, X_test = X[:int(X.shape[0] * 0.8), :], X[int(X.shape[0] * 0.8):, :]\n",
    "y_train, y_test = y[:int(X.shape[0] * 0.8), :], y[int(X.shape[0] * 0.8):, :]"
   ]
  },
  {
   "cell_type": "code",
   "execution_count": 25,
   "metadata": {},
   "outputs": [
    {
     "data": {
      "image/png": "[encoded data removed]",
      "text/plain": [
       "<matplotlib.figure.Figure at 0x20f3b700b00>"
      ]
     },
     "metadata": {},
     "output_type": "display_data"
    }
   ],
   "source": [
    "reg = LinearRegression(visualization=True)\n",
    "reg.fit(X_train, y_train)"
   ]
  },
  {
   "cell_type": "code",
   "execution_count": 27,
   "metadata": {},
   "outputs": [
    {
     "data": {
      "text/plain": [
       "4.3484498827957525"
      ]
     },
     "execution_count": 27,
     "metadata": {},
     "output_type": "execute_result"
    }
   ],
   "source": [
    "reg.cost_function(X_test, y_test, reg.coef_, 0)"
   ]
  },
  {
   "cell_type": "markdown",
   "metadata": {},
   "source": [
    "## Comparing with sklearn"
   ]
  },
  {
   "cell_type": "code",
   "execution_count": 42,
   "metadata": {},
   "outputs": [
    {
     "data": {
      "text/plain": [
       "3.0348402115123961e+23"
      ]
     },
     "execution_count": 42,
     "metadata": {},
     "output_type": "execute_result"
    }
   ],
   "source": [
    "from sklearn.linear_model import LinearRegression as LinearRegression2\n",
    "linreg = LinearRegression2()\n",
    "linreg.fit(X_train, y_train)\n",
    "reg.cost_function(X_test, y_test, linreg.coef_.T, 0)"
   ]
  },
  {
   "cell_type": "code",
   "execution_count": null,
   "metadata": {
    "collapsed": true
   },
   "outputs": [],
   "source": []
  },
  {
   "cell_type": "code",
   "execution_count": null,
   "metadata": {
    "collapsed": true
   },
   "outputs": [],
   "source": []
  },
  {
   "cell_type": "code",
   "execution_count": null,
   "metadata": {
    "collapsed": true
   },
   "outputs": [],
   "source": []
  },
  {
   "cell_type": "code",
   "execution_count": null,
   "metadata": {
    "collapsed": true
   },
   "outputs": [],
   "source": []
  }
 ],
 "metadata": {
  "kernelspec": {
   "display_name": "Python 3",
   "language": "python",
   "name": "python3"
  },
  "language_info": {
   "codemirror_mode": {
    "name": "ipython",
    "version": 3
   },
   "file_extension": ".py",
   "mimetype": "text/x-python",
   "name": "python",
   "nbconvert_exporter": "python",
   "pygments_lexer": "ipython3",
   "version": "3.6.0"
  },
  "notify_time": "30"
 },
 "nbformat": 4,
 "nbformat_minor": 2
}
